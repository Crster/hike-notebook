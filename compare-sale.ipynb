{
 "cells": [
  {
   "cell_type": "code",
   "execution_count": null,
   "id": "e4377974",
   "metadata": {},
   "outputs": [],
   "source": [
    "import pandas as pd\n",
    "\n",
    "\n",
    "def _make_unique_index(df: pd.DataFrame, key: str) -> pd.DataFrame:\n",
    "    \"\"\"Use `key` as index; if duplicates exist, add a tie-breaker so the index is unique.\"\"\"\n",
    "    if df[key].duplicated().any():\n",
    "        return df.assign(_row=df.groupby(key).cumcount()).set_index([key, \"_row\"])\n",
    "    return df.set_index(key)\n",
    "\n",
    "\n",
    "def diff_by_key(df1: pd.DataFrame, df2: pd.DataFrame, key: str) -> pd.DataFrame:\n",
    "    \"\"\"\n",
    "    Returns side-by-side differences (self/other) between df1 and df2,\n",
    "    aligning rows by `key`. Handles duplicate keys and non-overlapping columns.\n",
    "    \"\"\"\n",
    "    a = _make_unique_index(df1, key)\n",
    "    b = _make_unique_index(df2, key)\n",
    "\n",
    "    # Keep only columns present in both\n",
    "    common_cols = a.columns.intersection(b.columns)\n",
    "    a = a.loc[:, common_cols]\n",
    "    b = b.loc[:, common_cols]\n",
    "\n",
    "    # Make indexes identical (union, then reindex both), and sort for stability\n",
    "    union_idx = a.index.union(b.index)\n",
    "    a = a.reindex(union_idx).sort_index()\n",
    "    b = b.reindex(union_idx).sort_index()\n",
    "\n",
    "    # Now they are identically labeled -> safe to compare\n",
    "    return a.compare(b, align_axis=0)"
   ]
  },
  {
   "cell_type": "code",
   "execution_count": null,
   "id": "bfb17350",
   "metadata": {},
   "outputs": [],
   "source": [
    "shopify = pd.read_csv(\"records/shopify.csv\")\n",
    "shopify = shopify.rename(\n",
    "    columns={\n",
    "        \"Order name\": \"name\",\n",
    "        \"Gross sales\": \"grossSale\",\n",
    "        \"Net sales\": \"netSale\",\n",
    "        \"Taxes\": \"tax\",\n",
    "        \"Discounts\": \"discount\",\n",
    "    }\n",
    ")[[\"name\", \"grossSale\", \"netSale\", \"tax\", \"discount\"]]\n",
    "\n",
    "shopify = shopify.set_index(\"name\")\n",
    "\n",
    "display(shopify)"
   ]
  },
  {
   "cell_type": "code",
   "execution_count": null,
   "id": "b31ed8f1",
   "metadata": {},
   "outputs": [],
   "source": [
    "erp = pd.read_csv(\"records/erp.csv\")\n",
    "erp = erp.groupby(\"name\")[[\"grossSale\", \"netSale\", \"tax\", \"discount\"]].sum()\n",
    "\n",
    "display(erp)"
   ]
  },
  {
   "cell_type": "code",
   "execution_count": 113,
   "id": "81067adb",
   "metadata": {},
   "outputs": [
    {
     "data": {
      "application/vnd.microsoft.datawrangler.viewer.v0+json": {
       "columns": [
        {
         "name": "name",
         "rawType": "object",
         "type": "string"
        },
        {
         "name": "netSale_erp",
         "rawType": "float64",
         "type": "float"
        },
        {
         "name": "netSale_shopify",
         "rawType": "float64",
         "type": "float"
        }
       ],
       "ref": "097884ff-17a6-4c47-9a3b-ec67698c4b84",
       "rows": [
        [
         "#1243754",
         "-79.87",
         "-77.09"
        ],
        [
         "#1318231",
         "-16.78",
         "-21.02"
        ],
        [
         "#1406884",
         "-67.27",
         "-67.29"
        ],
        [
         "#1407580",
         "115.61999999999999",
         "59.95"
        ],
        [
         "#1407790",
         "115.5",
         "59.95"
        ],
        [
         "#1408088",
         "129.04999999999998",
         "64.9"
        ],
        [
         "#1408139",
         "166.52",
         "79.96"
        ],
        [
         "#1408207",
         "59.949999999999996",
         "59.95"
        ],
        [
         "#1408292",
         "1.4210854715202004e-14",
         "0.0"
        ],
        [
         "#1408312",
         "-3.1086244689504383e-15",
         "0.0"
        ],
        [
         "#1408634",
         "84.91000000000001",
         "84.91"
        ],
        [
         "#1408674",
         "158.22",
         "84.91"
        ],
        [
         "#1408707",
         "127.69",
         "84.91"
        ],
        [
         "#1409069",
         "84.89999999999999",
         "84.9"
        ],
        [
         "#1409319",
         "59.949999999999996",
         "59.95"
        ],
        [
         "#1409518",
         "114.47999999999999",
         "59.95"
        ]
       ],
       "shape": {
        "columns": 2,
        "rows": 16
       }
      },
      "text/html": [
       "<div>\n",
       "<style scoped>\n",
       "    .dataframe tbody tr th:only-of-type {\n",
       "        vertical-align: middle;\n",
       "    }\n",
       "\n",
       "    .dataframe tbody tr th {\n",
       "        vertical-align: top;\n",
       "    }\n",
       "\n",
       "    .dataframe thead th {\n",
       "        text-align: right;\n",
       "    }\n",
       "</style>\n",
       "<table border=\"1\" class=\"dataframe\">\n",
       "  <thead>\n",
       "    <tr style=\"text-align: right;\">\n",
       "      <th></th>\n",
       "      <th>netSale_erp</th>\n",
       "      <th>netSale_shopify</th>\n",
       "    </tr>\n",
       "    <tr>\n",
       "      <th>name</th>\n",
       "      <th></th>\n",
       "      <th></th>\n",
       "    </tr>\n",
       "  </thead>\n",
       "  <tbody>\n",
       "    <tr>\n",
       "      <th>#1243754</th>\n",
       "      <td>-7.987000e+01</td>\n",
       "      <td>-77.09</td>\n",
       "    </tr>\n",
       "    <tr>\n",
       "      <th>#1318231</th>\n",
       "      <td>-1.678000e+01</td>\n",
       "      <td>-21.02</td>\n",
       "    </tr>\n",
       "    <tr>\n",
       "      <th>#1406884</th>\n",
       "      <td>-6.727000e+01</td>\n",
       "      <td>-67.29</td>\n",
       "    </tr>\n",
       "    <tr>\n",
       "      <th>#1407580</th>\n",
       "      <td>1.156200e+02</td>\n",
       "      <td>59.95</td>\n",
       "    </tr>\n",
       "    <tr>\n",
       "      <th>#1407790</th>\n",
       "      <td>1.155000e+02</td>\n",
       "      <td>59.95</td>\n",
       "    </tr>\n",
       "    <tr>\n",
       "      <th>#1408088</th>\n",
       "      <td>1.290500e+02</td>\n",
       "      <td>64.90</td>\n",
       "    </tr>\n",
       "    <tr>\n",
       "      <th>#1408139</th>\n",
       "      <td>1.665200e+02</td>\n",
       "      <td>79.96</td>\n",
       "    </tr>\n",
       "    <tr>\n",
       "      <th>#1408207</th>\n",
       "      <td>5.995000e+01</td>\n",
       "      <td>59.95</td>\n",
       "    </tr>\n",
       "    <tr>\n",
       "      <th>#1408292</th>\n",
       "      <td>1.421085e-14</td>\n",
       "      <td>0.00</td>\n",
       "    </tr>\n",
       "    <tr>\n",
       "      <th>#1408312</th>\n",
       "      <td>-3.108624e-15</td>\n",
       "      <td>0.00</td>\n",
       "    </tr>\n",
       "    <tr>\n",
       "      <th>#1408634</th>\n",
       "      <td>8.491000e+01</td>\n",
       "      <td>84.91</td>\n",
       "    </tr>\n",
       "    <tr>\n",
       "      <th>#1408674</th>\n",
       "      <td>1.582200e+02</td>\n",
       "      <td>84.91</td>\n",
       "    </tr>\n",
       "    <tr>\n",
       "      <th>#1408707</th>\n",
       "      <td>1.276900e+02</td>\n",
       "      <td>84.91</td>\n",
       "    </tr>\n",
       "    <tr>\n",
       "      <th>#1409069</th>\n",
       "      <td>8.490000e+01</td>\n",
       "      <td>84.90</td>\n",
       "    </tr>\n",
       "    <tr>\n",
       "      <th>#1409319</th>\n",
       "      <td>5.995000e+01</td>\n",
       "      <td>59.95</td>\n",
       "    </tr>\n",
       "    <tr>\n",
       "      <th>#1409518</th>\n",
       "      <td>1.144800e+02</td>\n",
       "      <td>59.95</td>\n",
       "    </tr>\n",
       "  </tbody>\n",
       "</table>\n",
       "</div>"
      ],
      "text/plain": [
       "           netSale_erp  netSale_shopify\n",
       "name                                   \n",
       "#1243754 -7.987000e+01           -77.09\n",
       "#1318231 -1.678000e+01           -21.02\n",
       "#1406884 -6.727000e+01           -67.29\n",
       "#1407580  1.156200e+02            59.95\n",
       "#1407790  1.155000e+02            59.95\n",
       "#1408088  1.290500e+02            64.90\n",
       "#1408139  1.665200e+02            79.96\n",
       "#1408207  5.995000e+01            59.95\n",
       "#1408292  1.421085e-14             0.00\n",
       "#1408312 -3.108624e-15             0.00\n",
       "#1408634  8.491000e+01            84.91\n",
       "#1408674  1.582200e+02            84.91\n",
       "#1408707  1.276900e+02            84.91\n",
       "#1409069  8.490000e+01            84.90\n",
       "#1409319  5.995000e+01            59.95\n",
       "#1409518  1.144800e+02            59.95"
      ]
     },
     "metadata": {},
     "output_type": "display_data"
    }
   ],
   "source": [
    "merged = erp.merge(shopify, on=\"name\", suffixes=(\"_erp\", \"_shopify\"))\n",
    "merged[\"same\"] = merged[\"netSale_shopify\"] == merged[\"netSale_erp\"]\n",
    "display(merged[merged[\"same\"] != True][[\"netSale_erp\", \"netSale_shopify\"]])"
   ]
  }
 ],
 "metadata": {
  "kernelspec": {
   "display_name": ".venv (3.13.7)",
   "language": "python",
   "name": "python3"
  },
  "language_info": {
   "codemirror_mode": {
    "name": "ipython",
    "version": 3
   },
   "file_extension": ".py",
   "mimetype": "text/x-python",
   "name": "python",
   "nbconvert_exporter": "python",
   "pygments_lexer": "ipython3",
   "version": "3.13.7"
  }
 },
 "nbformat": 4,
 "nbformat_minor": 5
}
