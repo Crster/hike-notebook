{
 "cells": [
  {
   "cell_type": "code",
   "execution_count": 1,
   "id": "3955f58c",
   "metadata": {},
   "outputs": [],
   "source": [
    "import pandas as pd"
   ]
  },
  {
   "cell_type": "code",
   "execution_count": null,
   "id": "78c0e879",
   "metadata": {},
   "outputs": [
    {
     "name": "stdout",
     "output_type": "stream",
     "text": [
      "Reorder Point: 13\n"
     ]
    }
   ],
   "source": [
    "\"\"\"\n",
    "Here is an explanation of the variables:\n",
    "\n",
    "1. **`daily_demand`**: This represents the number of units required or consumed per day. In this case, it is set to `5`.\n",
    "\n",
    "2. **`current_stock`**: This indicates the current inventory level or the number of units available in stock. It is set to `10`.\n",
    "\n",
    "3. **`lead_time`**: This is the time (in days) it takes for a new order to arrive after placing it. Here, it is set to `2`.\n",
    "\n",
    "4. **`safety_stock`**: This is the buffer stock kept to handle uncertainties in demand or supply. It is set to `3`.\n",
    "\n",
    "5. **`reorder_point`**: This is the inventory level at which a new order should be placed to replenish stock. It is calculated using the formula:\n",
    "  \\[\n",
    "  \\text{reorder_point} = (\\text{daily_demand} \\times \\text{lead_time}) + \\text{safety_stock}\n",
    "  \\]\n",
    "  Substituting the values:\n",
    "  \\[\n",
    "  \\text{reorder_point} = (5 \\times 2) + 3 = 13\n",
    "  \\]\n",
    "\n",
    "\"\"\""
   ]
  },
  {
   "cell_type": "code",
   "execution_count": 3,
   "id": "4cac1312",
   "metadata": {},
   "outputs": [
    {
     "name": "stdout",
     "output_type": "stream",
     "text": [
      "Reorder Point: 13\n"
     ]
    }
   ],
   "source": [
    "daily_demand = 5\n",
    "current_stock = 10\n",
    "lead_time = 2\n",
    "safety_stock = 3\n",
    "reorder_point = (daily_demand * lead_time) + safety_stock\n",
    "\n",
    "print(f\"Reorder Point: {reorder_point}\")"
   ]
  }
 ],
 "metadata": {
  "kernelspec": {
   "display_name": "Python 3",
   "language": "python",
   "name": "python3"
  },
  "language_info": {
   "codemirror_mode": {
    "name": "ipython",
    "version": 3
   },
   "file_extension": ".py",
   "mimetype": "text/x-python",
   "name": "python",
   "nbconvert_exporter": "python",
   "pygments_lexer": "ipython3",
   "version": "3.12.3"
  }
 },
 "nbformat": 4,
 "nbformat_minor": 5
}
